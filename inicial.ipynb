{
 "cells": [
  {
   "cell_type": "markdown",
   "metadata": {},
   "source": [
    "# Cancelamento de Clientes\n",
    "\n",
    "*Passo a passo do projeto*\n",
    "\n",
    "- Passo 1: Importar a base de dados\n",
    "- Passo 2:  Visualizar a base de dados\n",
    "    Entender quais informações você tem disponível\n",
    "    Identificar problemas na Base de dados\n",
    "- Passo 3: Tratamemto de dados = Corrigir e padronizar a base de dados\n",
    "- Passo 4: Analisar o cancelamento dos clientes = Análise Inicial dos cancelamentos\n",
    "- Passo 5: Análise das causas de cancelamentos (como as informações do cliente impactam no cancelamento)\n",
    "\n",
    "<!-- !pip install pandas plotly openpyxl numpy nbformat ipykernel -->"
   ]
  },
  {
   "cell_type": "code",
   "execution_count": 1,
   "metadata": {},
   "outputs": [],
   "source": [
    "# Instalações iniciais : \n",
    "# Instalar bibliotecas\n",
    "\n",
    "#  !pip install pandas plotly openpyxl numpy nbformat ipykernel \n",
    "\n",
    "import pandas as pd"
   ]
  },
  {
   "cell_type": "code",
   "execution_count": 2,
   "metadata": {},
   "outputs": [],
   "source": [
    "# Importar base de dados \n",
    "tabela = pd.read_csv(\"cancelamentos_sample.csv\")\n",
    "\n",
    "\n",
    "# Passo 2:  Visualizar a base de dados\n",
    "# display(tabela)"
   ]
  },
  {
   "cell_type": "code",
   "execution_count": 3,
   "metadata": {},
   "outputs": [],
   "source": [
    "# Passo 3: Corrigir e padronizar a base de dados\n",
    "# Remover / Corrigir colunas inúteis e valores vazios \n",
    "\n",
    "# Remove Customer ID que não serve\n",
    "tabela = tabela.drop(columns=\"CustomerID\")\n",
    "\n",
    "# verificar os dados da tabela\n",
    "# display(tabela.info())\n",
    "\n",
    "# Descobrir no info sobre os valores \n",
    "\n",
    "# Trata valores vazios \n",
    "# Se fossem muitos valores vazios -> Excluir a coluna\n",
    "# Se fossem poucos valores vazios -> Exclui as linhas desses casos\n",
    "\n",
    "tabela = tabela.dropna()\n",
    "\n",
    "# Diferença DROP para DROPNA\n",
    "# drop -> exclui conteúdos da tabela, de acordo com o que for passado\n",
    "# dropna -> exclui conteúdos vazios, da coluna ou linha, de acordo com o especificado \n",
    "\n",
    "# display(tabela.info())\n",
    "\n",
    "# display(tabela)"
   ]
  },
  {
   "cell_type": "code",
   "execution_count": 4,
   "metadata": {},
   "outputs": [
    {
     "data": {
      "text/plain": [
       "cancelou\n",
       "1.0    56.8%\n",
       "0.0    43.2%\n",
       "Name: proportion, dtype: object"
      ]
     },
     "metadata": {},
     "output_type": "display_data"
    }
   ],
   "source": [
    "# Análise Inicial dos Cancelamentos \n",
    "\n",
    "# Descobrir o número de cancelamentos \n",
    "tabela[\"cancelou\"].value_counts()\n",
    "\n",
    "# Descobrir o número de cancelamentos em porcentagem\n",
    "tabela[\"cancelou\"].value_counts(normalize=True)\n",
    "display(tabela[\"cancelou\"].value_counts(normalize=True).map(\"{:.1%}\".format))\n",
    "\n",
    "# 56.8% cancelaram - 43.2% não cancelaram \n"
   ]
  },
  {
   "cell_type": "code",
   "execution_count": 5,
   "metadata": {},
   "outputs": [],
   "source": [
    "import plotly.express as px\n",
    "import plotly.io as pio\n"
   ]
  },
  {
   "cell_type": "code",
   "execution_count": 7,
   "metadata": {},
   "outputs": [
    {
     "ename": "TypeError",
     "evalue": "unsupported operand type(s) for +: 'NoneType' and 'str'",
     "output_type": "error",
     "traceback": [
      "\u001b[1;31m---------------------------------------------------------------------------\u001b[0m",
      "\u001b[1;31mTypeError\u001b[0m                                 Traceback (most recent call last)",
      "Cell \u001b[1;32mIn[7], line 8\u001b[0m\n\u001b[0;32m      1\u001b[0m \u001b[38;5;66;03m# Análise das causas de cancelamento\u001b[39;00m\n\u001b[0;32m      2\u001b[0m \n\u001b[0;32m      3\u001b[0m \u001b[38;5;66;03m# Analisar quais fatores levam ao cancelamento - A partir das colunas \u001b[39;00m\n\u001b[0;32m      4\u001b[0m \u001b[38;5;66;03m# Dashboards\u001b[39;00m\n\u001b[0;32m      5\u001b[0m \n\u001b[0;32m      6\u001b[0m \u001b[38;5;66;03m# Criar o Gráfico\u001b[39;00m\n\u001b[1;32m----> 8\u001b[0m grafico \u001b[38;5;241m=\u001b[39m \u001b[43mpx\u001b[49m\u001b[38;5;241;43m.\u001b[39;49m\u001b[43mhistogram\u001b[49m\u001b[43m(\u001b[49m\u001b[43m)\u001b[49m\n\u001b[0;32m     10\u001b[0m \u001b[38;5;66;03m# Exibir o Gráfico\u001b[39;00m\n\u001b[0;32m     12\u001b[0m grafico\u001b[38;5;241m.\u001b[39mshow()\n",
      "File \u001b[1;32m~\\AppData\\Local\\Packages\\PythonSoftwareFoundation.Python.3.12_qbz5n2kfra8p0\\LocalCache\\local-packages\\Python312\\site-packages\\plotly\\express\\_chart_types.py:480\u001b[0m, in \u001b[0;36mhistogram\u001b[1;34m(data_frame, x, y, color, pattern_shape, facet_row, facet_col, facet_col_wrap, facet_row_spacing, facet_col_spacing, hover_name, hover_data, animation_frame, animation_group, category_orders, labels, color_discrete_sequence, color_discrete_map, pattern_shape_sequence, pattern_shape_map, marginal, opacity, orientation, barmode, barnorm, histnorm, log_x, log_y, range_x, range_y, histfunc, cumulative, nbins, text_auto, title, template, width, height)\u001b[0m\n\u001b[0;32m    434\u001b[0m \u001b[38;5;28;01mdef\u001b[39;00m \u001b[38;5;21mhistogram\u001b[39m(\n\u001b[0;32m    435\u001b[0m     data_frame\u001b[38;5;241m=\u001b[39m\u001b[38;5;28;01mNone\u001b[39;00m,\n\u001b[0;32m    436\u001b[0m     x\u001b[38;5;241m=\u001b[39m\u001b[38;5;28;01mNone\u001b[39;00m,\n\u001b[1;32m   (...)\u001b[0m\n\u001b[0;32m    472\u001b[0m     height\u001b[38;5;241m=\u001b[39m\u001b[38;5;28;01mNone\u001b[39;00m,\n\u001b[0;32m    473\u001b[0m ) \u001b[38;5;241m-\u001b[39m\u001b[38;5;241m>\u001b[39m go\u001b[38;5;241m.\u001b[39mFigure:\n\u001b[0;32m    474\u001b[0m \u001b[38;5;250m    \u001b[39m\u001b[38;5;124;03m\"\"\"\u001b[39;00m\n\u001b[0;32m    475\u001b[0m \u001b[38;5;124;03m    In a histogram, rows of `data_frame` are grouped together into a\u001b[39;00m\n\u001b[0;32m    476\u001b[0m \u001b[38;5;124;03m    rectangular mark to visualize the 1D distribution of an aggregate\u001b[39;00m\n\u001b[0;32m    477\u001b[0m \u001b[38;5;124;03m    function `histfunc` (e.g. the count or sum) of the value `y` (or `x` if\u001b[39;00m\n\u001b[0;32m    478\u001b[0m \u001b[38;5;124;03m    `orientation` is `'h'`).\u001b[39;00m\n\u001b[0;32m    479\u001b[0m \u001b[38;5;124;03m    \"\"\"\u001b[39;00m\n\u001b[1;32m--> 480\u001b[0m     \u001b[38;5;28;01mreturn\u001b[39;00m \u001b[43mmake_figure\u001b[49m\u001b[43m(\u001b[49m\n\u001b[0;32m    481\u001b[0m \u001b[43m        \u001b[49m\u001b[43margs\u001b[49m\u001b[38;5;241;43m=\u001b[39;49m\u001b[38;5;28;43mlocals\u001b[39;49m\u001b[43m(\u001b[49m\u001b[43m)\u001b[49m\u001b[43m,\u001b[49m\n\u001b[0;32m    482\u001b[0m \u001b[43m        \u001b[49m\u001b[43mconstructor\u001b[49m\u001b[38;5;241;43m=\u001b[39;49m\u001b[43mgo\u001b[49m\u001b[38;5;241;43m.\u001b[39;49m\u001b[43mHistogram\u001b[49m\u001b[43m,\u001b[49m\n\u001b[0;32m    483\u001b[0m \u001b[43m        \u001b[49m\u001b[43mtrace_patch\u001b[49m\u001b[38;5;241;43m=\u001b[39;49m\u001b[38;5;28;43mdict\u001b[39;49m\u001b[43m(\u001b[49m\n\u001b[0;32m    484\u001b[0m \u001b[43m            \u001b[49m\u001b[43mhistnorm\u001b[49m\u001b[38;5;241;43m=\u001b[39;49m\u001b[43mhistnorm\u001b[49m\u001b[43m,\u001b[49m\n\u001b[0;32m    485\u001b[0m \u001b[43m            \u001b[49m\u001b[43mhistfunc\u001b[49m\u001b[38;5;241;43m=\u001b[39;49m\u001b[43mhistfunc\u001b[49m\u001b[43m,\u001b[49m\n\u001b[0;32m    486\u001b[0m \u001b[43m            \u001b[49m\u001b[43mcumulative\u001b[49m\u001b[38;5;241;43m=\u001b[39;49m\u001b[38;5;28;43mdict\u001b[39;49m\u001b[43m(\u001b[49m\u001b[43menabled\u001b[49m\u001b[38;5;241;43m=\u001b[39;49m\u001b[43mcumulative\u001b[49m\u001b[43m)\u001b[49m\u001b[43m,\u001b[49m\n\u001b[0;32m    487\u001b[0m \u001b[43m        \u001b[49m\u001b[43m)\u001b[49m\u001b[43m,\u001b[49m\n\u001b[0;32m    488\u001b[0m \u001b[43m        \u001b[49m\u001b[43mlayout_patch\u001b[49m\u001b[38;5;241;43m=\u001b[39;49m\u001b[38;5;28;43mdict\u001b[39;49m\u001b[43m(\u001b[49m\u001b[43mbarmode\u001b[49m\u001b[38;5;241;43m=\u001b[39;49m\u001b[43mbarmode\u001b[49m\u001b[43m,\u001b[49m\u001b[43m \u001b[49m\u001b[43mbarnorm\u001b[49m\u001b[38;5;241;43m=\u001b[39;49m\u001b[43mbarnorm\u001b[49m\u001b[43m)\u001b[49m\u001b[43m,\u001b[49m\n\u001b[0;32m    489\u001b[0m \u001b[43m    \u001b[49m\u001b[43m)\u001b[49m\n",
      "File \u001b[1;32m~\\AppData\\Local\\Packages\\PythonSoftwareFoundation.Python.3.12_qbz5n2kfra8p0\\LocalCache\\local-packages\\Python312\\site-packages\\plotly\\express\\_core.py:2267\u001b[0m, in \u001b[0;36mmake_figure\u001b[1;34m(args, constructor, trace_patch, layout_patch)\u001b[0m\n\u001b[0;32m   2264\u001b[0m     \u001b[38;5;28;01melif\u001b[39;00m args[\u001b[38;5;124m\"\u001b[39m\u001b[38;5;124mecdfnorm\u001b[39m\u001b[38;5;124m\"\u001b[39m] \u001b[38;5;241m==\u001b[39m \u001b[38;5;124m\"\u001b[39m\u001b[38;5;124mpercent\u001b[39m\u001b[38;5;124m\"\u001b[39m:\n\u001b[0;32m   2265\u001b[0m         group[var] \u001b[38;5;241m=\u001b[39m \u001b[38;5;241m100.0\u001b[39m \u001b[38;5;241m*\u001b[39m group[var] \u001b[38;5;241m/\u001b[39m group_sum\n\u001b[1;32m-> 2267\u001b[0m patch, fit_results \u001b[38;5;241m=\u001b[39m \u001b[43mmake_trace_kwargs\u001b[49m\u001b[43m(\u001b[49m\n\u001b[0;32m   2268\u001b[0m \u001b[43m    \u001b[49m\u001b[43margs\u001b[49m\u001b[43m,\u001b[49m\u001b[43m \u001b[49m\u001b[43mtrace_spec\u001b[49m\u001b[43m,\u001b[49m\u001b[43m \u001b[49m\u001b[43mgroup\u001b[49m\u001b[43m,\u001b[49m\u001b[43m \u001b[49m\u001b[43mmapping_labels\u001b[49m\u001b[38;5;241;43m.\u001b[39;49m\u001b[43mcopy\u001b[49m\u001b[43m(\u001b[49m\u001b[43m)\u001b[49m\u001b[43m,\u001b[49m\u001b[43m \u001b[49m\u001b[43msizeref\u001b[49m\n\u001b[0;32m   2269\u001b[0m \u001b[43m\u001b[49m\u001b[43m)\u001b[49m\n\u001b[0;32m   2270\u001b[0m trace\u001b[38;5;241m.\u001b[39mupdate(patch)\n\u001b[0;32m   2271\u001b[0m \u001b[38;5;28;01mif\u001b[39;00m fit_results \u001b[38;5;129;01mis\u001b[39;00m \u001b[38;5;129;01mnot\u001b[39;00m \u001b[38;5;28;01mNone\u001b[39;00m:\n",
      "File \u001b[1;32m~\\AppData\\Local\\Packages\\PythonSoftwareFoundation.Python.3.12_qbz5n2kfra8p0\\LocalCache\\local-packages\\Python312\\site-packages\\plotly\\express\\_core.py:522\u001b[0m, in \u001b[0;36mmake_trace_kwargs\u001b[1;34m(args, trace_spec, trace_data, mapping_labels, sizeref)\u001b[0m\n\u001b[0;32m    520\u001b[0m             \u001b[38;5;28;01melse\u001b[39;00m:\n\u001b[0;32m    521\u001b[0m                 _ \u001b[38;5;241m=\u001b[39m mapping_labels_copy\u001b[38;5;241m.\u001b[39mpop(k)\n\u001b[1;32m--> 522\u001b[0m hover_lines \u001b[38;5;241m=\u001b[39m [\u001b[43mk\u001b[49m\u001b[43m \u001b[49m\u001b[38;5;241;43m+\u001b[39;49m\u001b[43m \u001b[49m\u001b[38;5;124;43m\"\u001b[39;49m\u001b[38;5;124;43m=\u001b[39;49m\u001b[38;5;124;43m\"\u001b[39;49m \u001b[38;5;241m+\u001b[39m v \u001b[38;5;28;01mfor\u001b[39;00m k, v \u001b[38;5;129;01min\u001b[39;00m mapping_labels_copy\u001b[38;5;241m.\u001b[39mitems()]\n\u001b[0;32m    523\u001b[0m trace_patch[\u001b[38;5;124m\"\u001b[39m\u001b[38;5;124mhovertemplate\u001b[39m\u001b[38;5;124m\"\u001b[39m] \u001b[38;5;241m=\u001b[39m hover_header \u001b[38;5;241m+\u001b[39m \u001b[38;5;124m\"\u001b[39m\u001b[38;5;124m<br>\u001b[39m\u001b[38;5;124m\"\u001b[39m\u001b[38;5;241m.\u001b[39mjoin(hover_lines)\n\u001b[0;32m    524\u001b[0m trace_patch[\u001b[38;5;124m\"\u001b[39m\u001b[38;5;124mhovertemplate\u001b[39m\u001b[38;5;124m\"\u001b[39m] \u001b[38;5;241m+\u001b[39m\u001b[38;5;241m=\u001b[39m \u001b[38;5;124m\"\u001b[39m\u001b[38;5;124m<extra></extra>\u001b[39m\u001b[38;5;124m\"\u001b[39m\n",
      "\u001b[1;31mTypeError\u001b[0m: unsupported operand type(s) for +: 'NoneType' and 'str'"
     ]
    }
   ],
   "source": [
    "\n",
    "# Análise das causas de cancelamento\n",
    "\n",
    "# Analisar quais fatores levam ao cancelamento - A partir das colunas \n",
    "# Dashboards\n",
    "\n",
    "# Criar o Gráfico\n",
    "\n",
    "grafico = px.histogram()\n",
    "\n",
    "# Exibir o Gráfico\n",
    "\n",
    "grafico.show()"
   ]
  }
 ],
 "metadata": {
  "kernelspec": {
   "display_name": "Python 3",
   "language": "python",
   "name": "python3"
  },
  "language_info": {
   "codemirror_mode": {
    "name": "ipython",
    "version": 3
   },
   "file_extension": ".py",
   "mimetype": "text/x-python",
   "name": "python",
   "nbconvert_exporter": "python",
   "pygments_lexer": "ipython3",
   "version": "3.12.3"
  }
 },
 "nbformat": 4,
 "nbformat_minor": 2
}
